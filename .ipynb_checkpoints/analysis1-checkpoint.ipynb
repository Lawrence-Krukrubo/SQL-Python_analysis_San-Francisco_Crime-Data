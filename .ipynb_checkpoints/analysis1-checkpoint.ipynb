{
 "cells": [
  {
   "cell_type": "markdown",
   "id": "existing-uncertainty",
   "metadata": {},
   "source": [
    "# Exploratory Data Analysis in SQL and Python\n",
    "\n",
    "Analyzing the San-Francisco Crime dataset Using SQL and Python for indepth analysis.<br>\n",
    "We connect to MySQL server and workbench and make analysis with the crime_data database."
   ]
  },
  {
   "cell_type": "code",
   "execution_count": 1,
   "id": "peripheral-fountain",
   "metadata": {},
   "outputs": [
    {
     "name": "stdout",
     "output_type": "stream",
     "text": [
      "Done!\n"
     ]
    }
   ],
   "source": [
    "# we import some required libraries\n",
    "\n",
    "import pandas as pd\n",
    "import numpy as np\n",
    "import matplotlib.pyplot as plt\n",
    "import seaborn as sns\n",
    "from pprint import pprint\n",
    "import time\n",
    "print('Done!')"
   ]
  },
  {
   "cell_type": "code",
   "execution_count": 2,
   "id": "material-parameter",
   "metadata": {},
   "outputs": [
    {
     "name": "stdout",
     "output_type": "stream",
     "text": [
      "Enter UserName:danam\n",
      "Enter Password:········\n",
      "Connected to MySQL Server version  8.0.24\n",
      "You're connected to database:  ('crime_data',)\n"
     ]
    }
   ],
   "source": [
    "import mysql\n",
    "from mysql.connector import Error\n",
    "from getpass import getpass\n",
    "\n",
    "db_name = 'crime_data'\n",
    "try:\n",
    "    connection = mysql.connector.connect(host='localhost',\n",
    "                                         database=db_name,\n",
    "                                         user=input('Enter UserName:'),\n",
    "                                         password=getpass('Enter Password:'))\n",
    "    if connection.is_connected():\n",
    "        db_Info = connection.get_server_info()\n",
    "        print(\"Connected to MySQL Server version \", db_Info)\n",
    "        cursor = connection.cursor()\n",
    "        cursor.execute(\"select database();\")\n",
    "        record = cursor.fetchone()\n",
    "        print(\"You're connected to database: \", record)\n",
    "\n",
    "except Error as e:\n",
    "    print(\"Error while connecting to MySQL\", e)"
   ]
  },
  {
   "cell_type": "code",
   "execution_count": 3,
   "id": "overall-prince",
   "metadata": {},
   "outputs": [],
   "source": [
    "def query_to_df(query):\n",
    "    st = time.time()\n",
    "    # Assert Every Query ends with a semi-colon\n",
    "    try:\n",
    "        assert query.endswith(';')\n",
    "    except AssertionError:\n",
    "        return 'ERROR: Query Must End with ;'\n",
    "\n",
    "    # so we never have more than 50 rows displayed\n",
    "    pd.set_option('display.max_rows', 30) \n",
    "    df = None\n",
    "\n",
    "    # Process the query\n",
    "    cursor.execute(query)\n",
    "    columns = cursor.description\n",
    "    result = []\n",
    "    for value in cursor.fetchall():\n",
    "        tmp = {}\n",
    "        for (index,column) in enumerate(value):\n",
    "            tmp[columns[index][0]] = [column]\n",
    "        result.append(tmp)\n",
    "\n",
    "    # Create a DataFrame from all results\n",
    "    for ind, data in enumerate(result):\n",
    "        if ind >= 1:\n",
    "            x = pd.DataFrame(data)\n",
    "            df = pd.concat([df, x], ignore_index=True)\n",
    "        else:\n",
    "            df = pd.DataFrame(data)\n",
    "    print(f'Query ran for {time.time()-st} secs!')\n",
    "    return df"
   ]
  },
  {
   "cell_type": "code",
   "execution_count": 4,
   "id": "quality-construction",
   "metadata": {},
   "outputs": [
    {
     "name": "stdout",
     "output_type": "stream",
     "text": [
      "Query ran for 0.1706554889678955 secs!\n"
     ]
    },
    {
     "data": {
      "text/html": [
       "<div>\n",
       "<style scoped>\n",
       "    .dataframe tbody tr th:only-of-type {\n",
       "        vertical-align: middle;\n",
       "    }\n",
       "\n",
       "    .dataframe tbody tr th {\n",
       "        vertical-align: top;\n",
       "    }\n",
       "\n",
       "    .dataframe thead th {\n",
       "        text-align: right;\n",
       "    }\n",
       "</style>\n",
       "<table border=\"1\" class=\"dataframe\">\n",
       "  <thead>\n",
       "    <tr style=\"text-align: right;\">\n",
       "      <th></th>\n",
       "      <th>Tables_in_crime_data</th>\n",
       "    </tr>\n",
       "  </thead>\n",
       "  <tbody>\n",
       "    <tr>\n",
       "      <th>0</th>\n",
       "      <td>sf_crime_data</td>\n",
       "    </tr>\n",
       "  </tbody>\n",
       "</table>\n",
       "</div>"
      ],
      "text/plain": [
       "  Tables_in_crime_data\n",
       "0        sf_crime_data"
      ]
     },
     "execution_count": 4,
     "metadata": {},
     "output_type": "execute_result"
    }
   ],
   "source": [
    "# Let's see the tables in crime_data database\n",
    "\n",
    "query_to_df(\n",
    "'SHOW TABLES;'\n",
    ")"
   ]
  },
  {
   "cell_type": "code",
   "execution_count": 5,
   "id": "convenient-riverside",
   "metadata": {},
   "outputs": [
    {
     "name": "stdout",
     "output_type": "stream",
     "text": [
      "Query ran for 0.14816808700561523 secs!\n"
     ]
    },
    {
     "data": {
      "text/html": [
       "<div>\n",
       "<style scoped>\n",
       "    .dataframe tbody tr th:only-of-type {\n",
       "        vertical-align: middle;\n",
       "    }\n",
       "\n",
       "    .dataframe tbody tr th {\n",
       "        vertical-align: top;\n",
       "    }\n",
       "\n",
       "    .dataframe thead th {\n",
       "        text-align: right;\n",
       "    }\n",
       "</style>\n",
       "<table border=\"1\" class=\"dataframe\">\n",
       "  <thead>\n",
       "    <tr style=\"text-align: right;\">\n",
       "      <th></th>\n",
       "      <th>id</th>\n",
       "      <th>incidnt_num</th>\n",
       "      <th>category</th>\n",
       "      <th>descript</th>\n",
       "      <th>day_of_week</th>\n",
       "      <th>dates</th>\n",
       "      <th>times</th>\n",
       "      <th>pd_district</th>\n",
       "      <th>resolution</th>\n",
       "      <th>address</th>\n",
       "      <th>lon</th>\n",
       "      <th>lat</th>\n",
       "      <th>location</th>\n",
       "    </tr>\n",
       "  </thead>\n",
       "  <tbody>\n",
       "    <tr>\n",
       "      <th>0</th>\n",
       "      <td>1</td>\n",
       "      <td>140000000</td>\n",
       "      <td>VEHICLE THEFT</td>\n",
       "      <td>STOLEN AND RECOVERED VEHICLE</td>\n",
       "      <td>Friday</td>\n",
       "      <td>01/31/2014 08:00:00 AM +0000</td>\n",
       "      <td>0 days 17:00:00</td>\n",
       "      <td>INGLESIDE</td>\n",
       "      <td>NONE</td>\n",
       "      <td>0 Block of GARRISON AV</td>\n",
       "      <td>-122.413628</td>\n",
       "      <td>37.709724</td>\n",
       "      <td>(37.709725805163, -122.413623946206)</td>\n",
       "    </tr>\n",
       "    <tr>\n",
       "      <th>1</th>\n",
       "      <td>2</td>\n",
       "      <td>140000000</td>\n",
       "      <td>ASSAULT</td>\n",
       "      <td>BATTERY</td>\n",
       "      <td>Friday</td>\n",
       "      <td>01/31/2014 08:00:00 AM +0000</td>\n",
       "      <td>0 days 17:45:00</td>\n",
       "      <td>TARAVAL</td>\n",
       "      <td>ARREST, CITED</td>\n",
       "      <td>100 Block of FONT BL</td>\n",
       "      <td>-122.473709</td>\n",
       "      <td>37.715488</td>\n",
       "      <td>(37.7154876086057, -122.47370623066)</td>\n",
       "    </tr>\n",
       "    <tr>\n",
       "      <th>2</th>\n",
       "      <td>3</td>\n",
       "      <td>140000000</td>\n",
       "      <td>SUSPICIOUS OCC</td>\n",
       "      <td>SUSPICIOUS OCCURRENCE</td>\n",
       "      <td>Friday</td>\n",
       "      <td>01/31/2014 08:00:00 AM +0000</td>\n",
       "      <td>0 days 15:30:00</td>\n",
       "      <td>PARK</td>\n",
       "      <td>NONE</td>\n",
       "      <td>0 Block of CASTRO ST</td>\n",
       "      <td>-122.435722</td>\n",
       "      <td>37.768688</td>\n",
       "      <td>(37.7686887134351, -122.435718550322)</td>\n",
       "    </tr>\n",
       "  </tbody>\n",
       "</table>\n",
       "</div>"
      ],
      "text/plain": [
       "   id  incidnt_num        category                      descript day_of_week  \\\n",
       "0   1    140000000   VEHICLE THEFT  STOLEN AND RECOVERED VEHICLE      Friday   \n",
       "1   2    140000000         ASSAULT                       BATTERY      Friday   \n",
       "2   3    140000000  SUSPICIOUS OCC         SUSPICIOUS OCCURRENCE      Friday   \n",
       "\n",
       "                          dates           times pd_district     resolution  \\\n",
       "0  01/31/2014 08:00:00 AM +0000 0 days 17:00:00   INGLESIDE           NONE   \n",
       "1  01/31/2014 08:00:00 AM +0000 0 days 17:45:00     TARAVAL  ARREST, CITED   \n",
       "2  01/31/2014 08:00:00 AM +0000 0 days 15:30:00        PARK           NONE   \n",
       "\n",
       "                  address         lon        lat  \\\n",
       "0  0 Block of GARRISON AV -122.413628  37.709724   \n",
       "1    100 Block of FONT BL -122.473709  37.715488   \n",
       "2    0 Block of CASTRO ST -122.435722  37.768688   \n",
       "\n",
       "                                location  \n",
       "0   (37.709725805163, -122.413623946206)  \n",
       "1   (37.7154876086057, -122.47370623066)  \n",
       "2  (37.7686887134351, -122.435718550322)  "
      ]
     },
     "execution_count": 5,
     "metadata": {},
     "output_type": "execute_result"
    }
   ],
   "source": [
    "# For the sf_crime_data\n",
    "\n",
    "query = 'SELECT * FROM sf_crime_data LIMIT 3;'\n",
    "query_to_df(query)"
   ]
  },
  {
   "cell_type": "markdown",
   "id": "improving-studio",
   "metadata": {},
   "source": [
    "Let's see how many crimes have been reported"
   ]
  },
  {
   "cell_type": "code",
   "execution_count": 6,
   "id": "alleged-settle",
   "metadata": {},
   "outputs": [
    {
     "name": "stdout",
     "output_type": "stream",
     "text": [
      "Query ran for 0.2767481803894043 secs!\n"
     ]
    },
    {
     "data": {
      "text/html": [
       "<div>\n",
       "<style scoped>\n",
       "    .dataframe tbody tr th:only-of-type {\n",
       "        vertical-align: middle;\n",
       "    }\n",
       "\n",
       "    .dataframe tbody tr th {\n",
       "        vertical-align: top;\n",
       "    }\n",
       "\n",
       "    .dataframe thead th {\n",
       "        text-align: right;\n",
       "    }\n",
       "</style>\n",
       "<table border=\"1\" class=\"dataframe\">\n",
       "  <thead>\n",
       "    <tr style=\"text-align: right;\">\n",
       "      <th></th>\n",
       "      <th>total_crimes</th>\n",
       "    </tr>\n",
       "  </thead>\n",
       "  <tbody>\n",
       "    <tr>\n",
       "      <th>0</th>\n",
       "      <td>30400</td>\n",
       "    </tr>\n",
       "  </tbody>\n",
       "</table>\n",
       "</div>"
      ],
      "text/plain": [
       "   total_crimes\n",
       "0         30400"
      ]
     },
     "execution_count": 6,
     "metadata": {},
     "output_type": "execute_result"
    }
   ],
   "source": [
    "query_to_df(\n",
    "\"SELECT COUNT(*) total_crimes FROM sf_crime_data;\"\n",
    ")"
   ]
  },
  {
   "cell_type": "markdown",
   "id": "foster-massage",
   "metadata": {},
   "source": [
    "Let's see the different categories of offences"
   ]
  },
  {
   "cell_type": "code",
   "execution_count": 7,
   "id": "verbal-steel",
   "metadata": {},
   "outputs": [
    {
     "name": "stdout",
     "output_type": "stream",
     "text": [
      "Query ran for 0.05154275894165039 secs!\n"
     ]
    },
    {
     "data": {
      "text/html": [
       "<div>\n",
       "<style scoped>\n",
       "    .dataframe tbody tr th:only-of-type {\n",
       "        vertical-align: middle;\n",
       "    }\n",
       "\n",
       "    .dataframe tbody tr th {\n",
       "        vertical-align: top;\n",
       "    }\n",
       "\n",
       "    .dataframe thead th {\n",
       "        text-align: right;\n",
       "    }\n",
       "</style>\n",
       "<table border=\"1\" class=\"dataframe\">\n",
       "  <thead>\n",
       "    <tr style=\"text-align: right;\">\n",
       "      <th></th>\n",
       "      <th>category</th>\n",
       "    </tr>\n",
       "  </thead>\n",
       "  <tbody>\n",
       "    <tr>\n",
       "      <th>0</th>\n",
       "      <td>VEHICLE THEFT</td>\n",
       "    </tr>\n",
       "    <tr>\n",
       "      <th>1</th>\n",
       "      <td>ASSAULT</td>\n",
       "    </tr>\n",
       "    <tr>\n",
       "      <th>2</th>\n",
       "      <td>SUSPICIOUS OCC</td>\n",
       "    </tr>\n",
       "    <tr>\n",
       "      <th>3</th>\n",
       "      <td>OTHER OFFENSES</td>\n",
       "    </tr>\n",
       "    <tr>\n",
       "      <th>4</th>\n",
       "      <td>DRUG/NARCOTIC</td>\n",
       "    </tr>\n",
       "    <tr>\n",
       "      <th>...</th>\n",
       "      <td>...</td>\n",
       "    </tr>\n",
       "    <tr>\n",
       "      <th>31</th>\n",
       "      <td>BRIBERY</td>\n",
       "    </tr>\n",
       "    <tr>\n",
       "      <th>32</th>\n",
       "      <td>BAD CHECKS</td>\n",
       "    </tr>\n",
       "    <tr>\n",
       "      <th>33</th>\n",
       "      <td>RECOVERED VEHICLE</td>\n",
       "    </tr>\n",
       "    <tr>\n",
       "      <th>34</th>\n",
       "      <td>GAMBLING</td>\n",
       "    </tr>\n",
       "    <tr>\n",
       "      <th>35</th>\n",
       "      <td>STOLEN PROPERTY</td>\n",
       "    </tr>\n",
       "  </tbody>\n",
       "</table>\n",
       "<p>36 rows × 1 columns</p>\n",
       "</div>"
      ],
      "text/plain": [
       "             category\n",
       "0       VEHICLE THEFT\n",
       "1             ASSAULT\n",
       "2      SUSPICIOUS OCC\n",
       "3      OTHER OFFENSES\n",
       "4       DRUG/NARCOTIC\n",
       "..                ...\n",
       "31            BRIBERY\n",
       "32         BAD CHECKS\n",
       "33  RECOVERED VEHICLE\n",
       "34           GAMBLING\n",
       "35    STOLEN PROPERTY\n",
       "\n",
       "[36 rows x 1 columns]"
      ]
     },
     "execution_count": 7,
     "metadata": {},
     "output_type": "execute_result"
    }
   ],
   "source": [
    "query_to_df(\n",
    "\"SELECT DISTINCT category FROM sf_crime_data;\"\n",
    ")"
   ]
  },
  {
   "cell_type": "markdown",
   "id": "burning-checklist",
   "metadata": {},
   "source": [
    "Ok, there are 36 different categories of reported offences, let's see what types of crimes occur generally, from most to least frequent"
   ]
  },
  {
   "cell_type": "code",
   "execution_count": 8,
   "id": "arranged-drama",
   "metadata": {},
   "outputs": [
    {
     "name": "stdout",
     "output_type": "stream",
     "text": [
      "Query ran for 0.06881594657897949 secs!\n"
     ]
    },
    {
     "data": {
      "text/html": [
       "<div>\n",
       "<style scoped>\n",
       "    .dataframe tbody tr th:only-of-type {\n",
       "        vertical-align: middle;\n",
       "    }\n",
       "\n",
       "    .dataframe tbody tr th {\n",
       "        vertical-align: top;\n",
       "    }\n",
       "\n",
       "    .dataframe thead th {\n",
       "        text-align: right;\n",
       "    }\n",
       "</style>\n",
       "<table border=\"1\" class=\"dataframe\">\n",
       "  <thead>\n",
       "    <tr style=\"text-align: right;\">\n",
       "      <th></th>\n",
       "      <th>category</th>\n",
       "      <th>num_crimes</th>\n",
       "    </tr>\n",
       "  </thead>\n",
       "  <tbody>\n",
       "    <tr>\n",
       "      <th>0</th>\n",
       "      <td>LARCENY/THEFT</td>\n",
       "      <td>8211</td>\n",
       "    </tr>\n",
       "    <tr>\n",
       "      <th>1</th>\n",
       "      <td>OTHER OFFENSES</td>\n",
       "      <td>3719</td>\n",
       "    </tr>\n",
       "    <tr>\n",
       "      <th>2</th>\n",
       "      <td>NON-CRIMINAL</td>\n",
       "      <td>3554</td>\n",
       "    </tr>\n",
       "    <tr>\n",
       "      <th>3</th>\n",
       "      <td>ASSAULT</td>\n",
       "      <td>2399</td>\n",
       "    </tr>\n",
       "    <tr>\n",
       "      <th>4</th>\n",
       "      <td>VANDALISM</td>\n",
       "      <td>1545</td>\n",
       "    </tr>\n",
       "    <tr>\n",
       "      <th>...</th>\n",
       "      <td>...</td>\n",
       "      <td>...</td>\n",
       "    </tr>\n",
       "    <tr>\n",
       "      <th>31</th>\n",
       "      <td>SEX OFFENSES, NON FORCIBLE</td>\n",
       "      <td>6</td>\n",
       "    </tr>\n",
       "    <tr>\n",
       "      <th>32</th>\n",
       "      <td>BAD CHECKS</td>\n",
       "      <td>4</td>\n",
       "    </tr>\n",
       "    <tr>\n",
       "      <th>33</th>\n",
       "      <td>GAMBLING</td>\n",
       "      <td>4</td>\n",
       "    </tr>\n",
       "    <tr>\n",
       "      <th>34</th>\n",
       "      <td>STOLEN PROPERTY</td>\n",
       "      <td>3</td>\n",
       "    </tr>\n",
       "    <tr>\n",
       "      <th>35</th>\n",
       "      <td>BRIBERY</td>\n",
       "      <td>1</td>\n",
       "    </tr>\n",
       "  </tbody>\n",
       "</table>\n",
       "<p>36 rows × 2 columns</p>\n",
       "</div>"
      ],
      "text/plain": [
       "                      category  num_crimes\n",
       "0                LARCENY/THEFT        8211\n",
       "1               OTHER OFFENSES        3719\n",
       "2                 NON-CRIMINAL        3554\n",
       "3                      ASSAULT        2399\n",
       "4                    VANDALISM        1545\n",
       "..                         ...         ...\n",
       "31  SEX OFFENSES, NON FORCIBLE           6\n",
       "32                  BAD CHECKS           4\n",
       "33                    GAMBLING           4\n",
       "34             STOLEN PROPERTY           3\n",
       "35                     BRIBERY           1\n",
       "\n",
       "[36 rows x 2 columns]"
      ]
     },
     "execution_count": 8,
     "metadata": {},
     "output_type": "execute_result"
    }
   ],
   "source": [
    "query_to_df(\n",
    "\"SELECT DISTINCT category, COUNT(*) num_crimes FROM sf_crime_data GROUP BY 1 ORDER BY 2 DESC;\"\n",
    ")"
   ]
  },
  {
   "cell_type": "markdown",
   "id": "anticipated-knowing",
   "metadata": {},
   "source": [
    "Let's zoom in on the Top 10 categories. "
   ]
  },
  {
   "cell_type": "code",
   "execution_count": 29,
   "id": "frozen-governor",
   "metadata": {},
   "outputs": [
    {
     "name": "stdout",
     "output_type": "stream",
     "text": [
      "Query ran for 0.04092049598693848 secs!\n"
     ]
    },
    {
     "data": {
      "image/png": "[encoded data removed]",
      "text/plain": [
       "<Figure size 720x432 with 1 Axes>"
      ]
     },
     "metadata": {
      "needs_background": "light"
     },
     "output_type": "display_data"
    }
   ],
   "source": [
    "fdict = {'fontweight':'bold', 'fontsize':14}\n",
    "\n",
    "(query_to_df(\n",
    "\"SELECT category, COUNT(*) num_events FROM sf_crime_data GROUP BY 1 ORDER BY 2 DESC LIMIT 10;\"\n",
    ")).set_index('category').plot.bar(figsize=(10,6))\n",
    "plt.title('Bar-Chart of Top 10 Offences: San-Francisco', fontdict=fdict)\n",
    "plt.show()"
   ]
  },
  {
   "cell_type": "markdown",
   "id": "nominated-invention",
   "metadata": {},
   "source": [
    "What percentage of total offences do the Top 10 offences constitute?"
   ]
  },
  {
   "cell_type": "code",
   "execution_count": 19,
   "id": "overhead-farmer",
   "metadata": {},
   "outputs": [
    {
     "name": "stdout",
     "output_type": "stream",
     "text": [
      "Query ran for 0.03789663314819336 secs!\n"
     ]
    },
    {
     "data": {
      "text/html": [
       "<div>\n",
       "<style scoped>\n",
       "    .dataframe tbody tr th:only-of-type {\n",
       "        vertical-align: middle;\n",
       "    }\n",
       "\n",
       "    .dataframe tbody tr th {\n",
       "        vertical-align: top;\n",
       "    }\n",
       "\n",
       "    .dataframe thead th {\n",
       "        text-align: right;\n",
       "    }\n",
       "</style>\n",
       "<table border=\"1\" class=\"dataframe\">\n",
       "  <thead>\n",
       "    <tr style=\"text-align: right;\">\n",
       "      <th></th>\n",
       "      <th>top_offences</th>\n",
       "      <th>pct_top_offences</th>\n",
       "    </tr>\n",
       "  </thead>\n",
       "  <tbody>\n",
       "    <tr>\n",
       "      <th>0</th>\n",
       "      <td>26431</td>\n",
       "      <td>86.9441</td>\n",
       "    </tr>\n",
       "  </tbody>\n",
       "</table>\n",
       "</div>"
      ],
      "text/plain": [
       "  top_offences pct_top_offences\n",
       "0        26431          86.9441"
      ]
     },
     "execution_count": 19,
     "metadata": {},
     "output_type": "execute_result"
    }
   ],
   "source": [
    "query_to_df(\n",
    "\"WITH \\\n",
    "t1 AS (SELECT DISTINCT category, COUNT(*) num_offences FROM sf_crime_data GROUP BY 1 ORDER BY 2 DESC LIMIT 10), \\\n",
    "t2 AS (SELECT SUM(num_offences) top_offences, (SUM(num_offences) / (SELECT COUNT(*) FROM sf_crime_data))*100 \\\n",
    "AS pct_top_offences FROM t1) \\\n",
    "SELECT * FROM t2;\"\n",
    ")"
   ]
  },
  {
   "cell_type": "markdown",
   "id": "processed-shanghai",
   "metadata": {},
   "source": [
    "So, the Top 10 categories of offences sum up to 26431 and contribute almost 87% of total offences reported.<br>Therefore for simplicity's sakes we shall focus on the distribution of these Top 10 offences."
   ]
  },
  {
   "cell_type": "markdown",
   "id": "crazy-interface",
   "metadata": {},
   "source": [
    "We can see from the data that offences are recorded per district, in the variable `pd_district`. Let's see the unique districts from the data."
   ]
  },
  {
   "cell_type": "code",
   "execution_count": 18,
   "id": "great-discrimination",
   "metadata": {},
   "outputs": [
    {
     "name": "stdout",
     "output_type": "stream",
     "text": [
      "Query ran for 0.025957822799682617 secs!\n"
     ]
    },
    {
     "data": {
      "text/html": [
       "<div>\n",
       "<style scoped>\n",
       "    .dataframe tbody tr th:only-of-type {\n",
       "        vertical-align: middle;\n",
       "    }\n",
       "\n",
       "    .dataframe tbody tr th {\n",
       "        vertical-align: top;\n",
       "    }\n",
       "\n",
       "    .dataframe thead th {\n",
       "        text-align: right;\n",
       "    }\n",
       "</style>\n",
       "<table border=\"1\" class=\"dataframe\">\n",
       "  <thead>\n",
       "    <tr style=\"text-align: right;\">\n",
       "      <th></th>\n",
       "      <th>pd_district</th>\n",
       "    </tr>\n",
       "  </thead>\n",
       "  <tbody>\n",
       "    <tr>\n",
       "      <th>0</th>\n",
       "      <td>INGLESIDE</td>\n",
       "    </tr>\n",
       "    <tr>\n",
       "      <th>1</th>\n",
       "      <td>TARAVAL</td>\n",
       "    </tr>\n",
       "    <tr>\n",
       "      <th>2</th>\n",
       "      <td>PARK</td>\n",
       "    </tr>\n",
       "    <tr>\n",
       "      <th>3</th>\n",
       "      <td>CENTRAL</td>\n",
       "    </tr>\n",
       "    <tr>\n",
       "      <th>4</th>\n",
       "      <td>SOUTHERN</td>\n",
       "    </tr>\n",
       "    <tr>\n",
       "      <th>5</th>\n",
       "      <td>RICHMOND</td>\n",
       "    </tr>\n",
       "    <tr>\n",
       "      <th>6</th>\n",
       "      <td>BAYVIEW</td>\n",
       "    </tr>\n",
       "    <tr>\n",
       "      <th>7</th>\n",
       "      <td>MISSION</td>\n",
       "    </tr>\n",
       "    <tr>\n",
       "      <th>8</th>\n",
       "      <td>NORTHERN</td>\n",
       "    </tr>\n",
       "    <tr>\n",
       "      <th>9</th>\n",
       "      <td>TENDERLOIN</td>\n",
       "    </tr>\n",
       "  </tbody>\n",
       "</table>\n",
       "</div>"
      ],
      "text/plain": [
       "  pd_district\n",
       "0   INGLESIDE\n",
       "1     TARAVAL\n",
       "2        PARK\n",
       "3     CENTRAL\n",
       "4    SOUTHERN\n",
       "5    RICHMOND\n",
       "6     BAYVIEW\n",
       "7     MISSION\n",
       "8    NORTHERN\n",
       "9  TENDERLOIN"
      ]
     },
     "execution_count": 18,
     "metadata": {},
     "output_type": "execute_result"
    }
   ],
   "source": [
    "query_to_df(\n",
    "\"SELECT DISTINCT pd_district FROM sf_crime_data;\"\n",
    ")"
   ]
  },
  {
   "cell_type": "markdown",
   "id": "violent-sugar",
   "metadata": {},
   "source": [
    "Now, let's write SQL query to extract the distribution of total Top-10-offences per district "
   ]
  },
  {
   "cell_type": "code",
   "execution_count": 25,
   "id": "palestinian-ecology",
   "metadata": {},
   "outputs": [
    {
     "name": "stdout",
     "output_type": "stream",
     "text": [
      "Query ran for 0.0718071460723877 secs!\n"
     ]
    },
    {
     "data": {
      "text/html": [
       "<div>\n",
       "<style scoped>\n",
       "    .dataframe tbody tr th:only-of-type {\n",
       "        vertical-align: middle;\n",
       "    }\n",
       "\n",
       "    .dataframe tbody tr th {\n",
       "        vertical-align: top;\n",
       "    }\n",
       "\n",
       "    .dataframe thead th {\n",
       "        text-align: right;\n",
       "    }\n",
       "</style>\n",
       "<table border=\"1\" class=\"dataframe\">\n",
       "  <thead>\n",
       "    <tr style=\"text-align: right;\">\n",
       "      <th></th>\n",
       "      <th>pd_district</th>\n",
       "      <th>num_top_offences</th>\n",
       "    </tr>\n",
       "  </thead>\n",
       "  <tbody>\n",
       "    <tr>\n",
       "      <th>0</th>\n",
       "      <td>SOUTHERN</td>\n",
       "      <td>5218</td>\n",
       "    </tr>\n",
       "    <tr>\n",
       "      <th>1</th>\n",
       "      <td>MISSION</td>\n",
       "      <td>3448</td>\n",
       "    </tr>\n",
       "    <tr>\n",
       "      <th>2</th>\n",
       "      <td>NORTHERN</td>\n",
       "      <td>3389</td>\n",
       "    </tr>\n",
       "    <tr>\n",
       "      <th>3</th>\n",
       "      <td>CENTRAL</td>\n",
       "      <td>2789</td>\n",
       "    </tr>\n",
       "    <tr>\n",
       "      <th>4</th>\n",
       "      <td>BAYVIEW</td>\n",
       "      <td>2432</td>\n",
       "    </tr>\n",
       "    <tr>\n",
       "      <th>5</th>\n",
       "      <td>INGLESIDE</td>\n",
       "      <td>2205</td>\n",
       "    </tr>\n",
       "    <tr>\n",
       "      <th>6</th>\n",
       "      <td>TENDERLOIN</td>\n",
       "      <td>2185</td>\n",
       "    </tr>\n",
       "    <tr>\n",
       "      <th>7</th>\n",
       "      <td>TARAVAL</td>\n",
       "      <td>1747</td>\n",
       "    </tr>\n",
       "    <tr>\n",
       "      <th>8</th>\n",
       "      <td>PARK</td>\n",
       "      <td>1520</td>\n",
       "    </tr>\n",
       "    <tr>\n",
       "      <th>9</th>\n",
       "      <td>RICHMOND</td>\n",
       "      <td>1498</td>\n",
       "    </tr>\n",
       "  </tbody>\n",
       "</table>\n",
       "</div>"
      ],
      "text/plain": [
       "  pd_district  num_top_offences\n",
       "0    SOUTHERN              5218\n",
       "1     MISSION              3448\n",
       "2    NORTHERN              3389\n",
       "3     CENTRAL              2789\n",
       "4     BAYVIEW              2432\n",
       "5   INGLESIDE              2205\n",
       "6  TENDERLOIN              2185\n",
       "7     TARAVAL              1747\n",
       "8        PARK              1520\n",
       "9    RICHMOND              1498"
      ]
     },
     "execution_count": 25,
     "metadata": {},
     "output_type": "execute_result"
    }
   ],
   "source": [
    "query_to_df(\n",
    "\"WITH \\\n",
    "t1 AS (SELECT DISTINCT category, COUNT(*) count FROM sf_crime_data GROUP BY 1 ORDER BY 2 DESC LIMIT 10), \\\n",
    "t2 AS (SELECT DISTINCT pd_district, COUNT(*) num_top_offences FROM sf_crime_data WHERE category IN \\\n",
    "(SELECT category FROM t1) GROUP BY 1 ORDER BY 2 DESC) \\\n",
    "SELECT * FROM t2;\"\n",
    ")"
   ]
  },
  {
   "cell_type": "markdown",
   "id": "absolute-legislature",
   "metadata": {},
   "source": [
    "Let's visualize the distribution, using a horizontal barchart."
   ]
  },
  {
   "cell_type": "code",
   "execution_count": 31,
   "id": "settled-excuse",
   "metadata": {},
   "outputs": [
    {
     "name": "stdout",
     "output_type": "stream",
     "text": [
      "Query ran for 0.06984663009643555 secs!\n"
     ]
    },
    {
     "data": {
      "image/png": "[encoded data removed]",
      "text/plain": [
       "<Figure size 720x432 with 1 Axes>"
      ]
     },
     "metadata": {
      "needs_background": "light"
     },
     "output_type": "display_data"
    }
   ],
   "source": [
    "(query_to_df(\n",
    "\"WITH \\\n",
    "t1 AS (SELECT DISTINCT category, COUNT(*) count FROM sf_crime_data GROUP BY 1 ORDER BY 2 DESC LIMIT 10), \\\n",
    "t2 AS (SELECT DISTINCT pd_district, COUNT(*) num_top_offences FROM sf_crime_data WHERE category IN \\\n",
    "(SELECT category FROM t1) GROUP BY 1 ORDER BY 2) \\\n",
    "SELECT * FROM t2;\"\n",
    ")).set_index('pd_district').plot(kind='barh', figsize=(10,6), color='red')\n",
    "plt.title('TOP-10-Offences Distribution by PD-District', fontdict=fdict)\n",
    "plt.show()"
   ]
  },
  {
   "cell_type": "markdown",
   "id": "forced-compromise",
   "metadata": {},
   "source": [
    "Out of these 10 Districts, the Southern District has over twice the number of reported offences as 6 other districts: (`Bayview`, `Ingleside`, `Tenderloin`, `Taraval`, `Park`, `Richmond`).<br>`Southern`, `Mission` and `Northern` Districts are the Top 3 in terms of reported offences. While `Richmond` is lowest on reported offences."
   ]
  },
  {
   "cell_type": "markdown",
   "id": "premium-research",
   "metadata": {},
   "source": [
    "From the `resolution` variable in the dataset, we can see that not all offences have been resolved in various Districts.<br>Let's investigate further District-wise. "
   ]
  },
  {
   "cell_type": "markdown",
   "id": "tamil-bachelor",
   "metadata": {},
   "source": [
    "First, let's see the distribution of distinct explanation phrases used to describe resolution"
   ]
  },
  {
   "cell_type": "code",
   "execution_count": 34,
   "id": "greatest-hybrid",
   "metadata": {},
   "outputs": [
    {
     "name": "stdout",
     "output_type": "stream",
     "text": [
      "Query ran for 0.07567954063415527 secs!\n"
     ]
    },
    {
     "data": {
      "text/html": [
       "<div>\n",
       "<style scoped>\n",
       "    .dataframe tbody tr th:only-of-type {\n",
       "        vertical-align: middle;\n",
       "    }\n",
       "\n",
       "    .dataframe tbody tr th {\n",
       "        vertical-align: top;\n",
       "    }\n",
       "\n",
       "    .dataframe thead th {\n",
       "        text-align: right;\n",
       "    }\n",
       "</style>\n",
       "<table border=\"1\" class=\"dataframe\">\n",
       "  <thead>\n",
       "    <tr style=\"text-align: right;\">\n",
       "      <th></th>\n",
       "      <th>resolution</th>\n",
       "      <th>num_offences</th>\n",
       "    </tr>\n",
       "  </thead>\n",
       "  <tbody>\n",
       "    <tr>\n",
       "      <th>0</th>\n",
       "      <td>NONE</td>\n",
       "      <td>18927</td>\n",
       "    </tr>\n",
       "    <tr>\n",
       "      <th>1</th>\n",
       "      <td>ARREST, BOOKED</td>\n",
       "      <td>6505</td>\n",
       "    </tr>\n",
       "    <tr>\n",
       "      <th>2</th>\n",
       "      <td>ARREST, CITED</td>\n",
       "      <td>2509</td>\n",
       "    </tr>\n",
       "    <tr>\n",
       "      <th>3</th>\n",
       "      <td>PSYCHOPATHIC CASE</td>\n",
       "      <td>1074</td>\n",
       "    </tr>\n",
       "    <tr>\n",
       "      <th>4</th>\n",
       "      <td>LOCATED</td>\n",
       "      <td>698</td>\n",
       "    </tr>\n",
       "    <tr>\n",
       "      <th>5</th>\n",
       "      <td>UNFOUNDED</td>\n",
       "      <td>170</td>\n",
       "    </tr>\n",
       "    <tr>\n",
       "      <th>6</th>\n",
       "      <td>JUVENILE BOOKED</td>\n",
       "      <td>147</td>\n",
       "    </tr>\n",
       "    <tr>\n",
       "      <th>7</th>\n",
       "      <td>COMPLAINANT REFUSES TO PROSECUTE</td>\n",
       "      <td>118</td>\n",
       "    </tr>\n",
       "    <tr>\n",
       "      <th>8</th>\n",
       "      <td>JUVENILE CITED</td>\n",
       "      <td>92</td>\n",
       "    </tr>\n",
       "    <tr>\n",
       "      <th>9</th>\n",
       "      <td>PROSECUTED BY OUTSIDE AGENCY</td>\n",
       "      <td>66</td>\n",
       "    </tr>\n",
       "    <tr>\n",
       "      <th>10</th>\n",
       "      <td>JUVENILE ADMONISHED</td>\n",
       "      <td>35</td>\n",
       "    </tr>\n",
       "    <tr>\n",
       "      <th>11</th>\n",
       "      <td>NOT PROSECUTED</td>\n",
       "      <td>18</td>\n",
       "    </tr>\n",
       "    <tr>\n",
       "      <th>12</th>\n",
       "      <td>JUVENILE DIVERTED</td>\n",
       "      <td>16</td>\n",
       "    </tr>\n",
       "    <tr>\n",
       "      <th>13</th>\n",
       "      <td>EXCEPTIONAL CLEARANCE</td>\n",
       "      <td>12</td>\n",
       "    </tr>\n",
       "    <tr>\n",
       "      <th>14</th>\n",
       "      <td>DISTRICT ATTORNEY REFUSES TO PROSECUTE</td>\n",
       "      <td>11</td>\n",
       "    </tr>\n",
       "    <tr>\n",
       "      <th>15</th>\n",
       "      <td>CLEARED-CONTACT JUVENILE FOR MORE INFO</td>\n",
       "      <td>2</td>\n",
       "    </tr>\n",
       "  </tbody>\n",
       "</table>\n",
       "</div>"
      ],
      "text/plain": [
       "                                resolution  num_offences\n",
       "0                                     NONE         18927\n",
       "1                           ARREST, BOOKED          6505\n",
       "2                            ARREST, CITED          2509\n",
       "3                        PSYCHOPATHIC CASE          1074\n",
       "4                                  LOCATED           698\n",
       "5                                UNFOUNDED           170\n",
       "6                          JUVENILE BOOKED           147\n",
       "7         COMPLAINANT REFUSES TO PROSECUTE           118\n",
       "8                           JUVENILE CITED            92\n",
       "9             PROSECUTED BY OUTSIDE AGENCY            66\n",
       "10                     JUVENILE ADMONISHED            35\n",
       "11                          NOT PROSECUTED            18\n",
       "12                       JUVENILE DIVERTED            16\n",
       "13                   EXCEPTIONAL CLEARANCE            12\n",
       "14  DISTRICT ATTORNEY REFUSES TO PROSECUTE            11\n",
       "15  CLEARED-CONTACT JUVENILE FOR MORE INFO             2"
      ]
     },
     "execution_count": 34,
     "metadata": {},
     "output_type": "execute_result"
    }
   ],
   "source": [
    "query_to_df(\n",
    "\"SELECT DISTINCT resolution, COUNT(*) num_offences FROM sf_crime_data GROUP BY 1 ORDER BY 2 DESC;\"\n",
    ")"
   ]
  },
  {
   "cell_type": "markdown",
   "id": "electronic-berkeley",
   "metadata": {},
   "source": [
    "Some interesting findings here, almost `19000` out of `30400` cases are unresolved. That's about `62%` of cases. We also have `170` unfounded cases. These are offences that are simply not True or no evidence to support the reports. In some cases(`118`) the complainant refused to prosecute, that's really interesting, the reasons are as varied as we can imagine. Then there are about `9000` arrested and booked or cited cases and about `280` cases involving Juveniles."
   ]
  },
  {
   "cell_type": "markdown",
   "id": "genetic-fourth",
   "metadata": {},
   "source": [
    "Let's see the split of unresolved offences and offences inwhich arrests have been made per District."
   ]
  },
  {
   "cell_type": "code",
   "execution_count": null,
   "id": "attempted-revolution",
   "metadata": {},
   "outputs": [],
   "source": []
  }
 ],
 "metadata": {
  "kernelspec": {
   "display_name": "Python 3",
   "language": "python",
   "name": "python3"
  },
  "language_info": {
   "codemirror_mode": {
    "name": "ipython",
    "version": 3
   },
   "file_extension": ".py",
   "mimetype": "text/x-python",
   "name": "python",
   "nbconvert_exporter": "python",
   "pygments_lexer": "ipython3",
   "version": "3.8.5"
  }
 },
 "nbformat": 4,
 "nbformat_minor": 5
}
